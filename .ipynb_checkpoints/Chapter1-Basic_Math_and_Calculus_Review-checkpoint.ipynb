{
 "cells": [
  {
   "cell_type": "markdown",
   "id": "80b3c569-b720-435f-aee0-e80040815230",
   "metadata": {},
   "source": [
    "# Chapter 1 : Basic Math and Calculus Review "
   ]
  },
  {
   "cell_type": "markdown",
   "id": "4fdd9f0e-506c-41db-9bea-3a1a1037a4b4",
   "metadata": {},
   "source": [
    "## Order of Operations\n",
    "#####  Example 1-1. Solving an expression in Python"
   ]
  },
  {
   "cell_type": "code",
   "execution_count": 6,
   "id": "242dd8c9-30d5-4a6a-8768-f55c3d7006c0",
   "metadata": {},
   "outputs": [
    {
     "name": "stdout",
     "output_type": "stream",
     "text": [
      "6.0\n"
     ]
    }
   ],
   "source": [
    "x = 2 * (3 +2)**2 / 5 - 4\n",
    "print(a)"
   ]
  },
  {
   "cell_type": "markdown",
   "id": "cb25771c-2d1d-43b0-a865-6ea530eb716f",
   "metadata": {},
   "source": [
    "##### Example 1-2. Making use of parenthese for clarity in Python"
   ]
  },
  {
   "cell_type": "code",
   "execution_count": 8,
   "id": "57fc56ff-7a54-4631-9df1-a5636d4c4e86",
   "metadata": {},
   "outputs": [
    {
     "name": "stdout",
     "output_type": "stream",
     "text": [
      "6.0\n"
     ]
    }
   ],
   "source": [
    "a = 2 * ((3 + 2)**2 / 5) - 4\n",
    "print(a)"
   ]
  },
  {
   "cell_type": "markdown",
   "id": "f4fe0134-c964-4aea-b78e-6a2703490d07",
   "metadata": {},
   "source": [
    "## Variables\n",
    "##### Example 1-3. A variable in Python that is then multiplied"
   ]
  },
  {
   "cell_type": "code",
   "execution_count": 11,
   "id": "e76c48e8-f602-41bc-855d-438fba2f8846",
   "metadata": {},
   "outputs": [
    {
     "name": "stdin",
     "output_type": "stream",
     "text": [
      "Please input a number\n",
      " 2\n"
     ]
    },
    {
     "name": "stdout",
     "output_type": "stream",
     "text": [
      "6\n"
     ]
    }
   ],
   "source": [
    "x = int(input(\"Please input a number\\n\"))\n",
    "product = 3 * x\n",
    "print(product)"
   ]
  },
  {
   "cell_type": "markdown",
   "id": "951cae39-98cd-4d1f-803a-87e196f12035",
   "metadata": {},
   "source": [
    "##### Example 1-4. Greek variable names in Python\n",
    "beta = 1.75 <br>\n",
    "theta = 30.0\n",
    "\n",
    "##### Example 1-5. Expressing subscripted variables in Python\n",
    "x1 = 3 or x_1 = 3 <br>\n",
    "x2 = 10 or x_2 = 10 <br>\n",
    "x3 = 44 or x_3 = 44 <br>\n",
    "\n",
    "##### Example 1-6. Declaring a linear function in Python"
   ]
  },
  {
   "cell_type": "code",
   "execution_count": 12,
   "id": "0ba3bb7b-1911-427f-bc95-2f8fc31086f9",
   "metadata": {},
   "outputs": [
    {
     "name": "stdout",
     "output_type": "stream",
     "text": [
      "x = 0, y = 1\n",
      "x = 1, y = 3\n",
      "x = 2, y = 5\n",
      "x = 3, y = 7\n"
     ]
    }
   ],
   "source": [
    "def f(x):\n",
    "    return 2 * x + 1\n",
    "\n",
    "x_values = [0, 1, 2, 3]\n",
    "for x in x_values:\n",
    "    y = f(x)\n",
    "    print(f\"x = {x}, y = {y}\")"
   ]
  },
  {
   "cell_type": "code",
   "execution_count": null,
   "id": "2163b083-263d-488d-ac95-93b2e2ade3c9",
   "metadata": {},
   "outputs": [],
   "source": []
  }
 ],
 "metadata": {
  "kernelspec": {
   "display_name": "Python 3 (ipykernel)",
   "language": "python",
   "name": "python3"
  },
  "language_info": {
   "codemirror_mode": {
    "name": "ipython",
    "version": 3
   },
   "file_extension": ".py",
   "mimetype": "text/x-python",
   "name": "python",
   "nbconvert_exporter": "python",
   "pygments_lexer": "ipython3",
   "version": "3.10.8"
  }
 },
 "nbformat": 4,
 "nbformat_minor": 5
}
