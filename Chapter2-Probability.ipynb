{
 "cells": [
  {
   "cell_type": "markdown",
   "id": "2ed21e44-255c-4b9b-93a3-2b81b4c62bb5",
   "metadata": {},
   "source": [
    "# Chapter 2: Probability"
   ]
  },
  {
   "cell_type": "markdown",
   "id": "ed31a45a-2edd-428e-9c46-8d9bfd3458a4",
   "metadata": {},
   "source": [
    "## Probabilty Math\n",
    "##### Exapmle 2-1. Using Bayes' Theorem in Python"
   ]
  },
  {
   "cell_type": "code",
   "execution_count": 1,
   "id": "481c33bc-b351-455f-8bb9-a480aea2a90b",
   "metadata": {},
   "outputs": [
    {
     "name": "stdout",
     "output_type": "stream",
     "text": [
      "0.006538461538461539\n"
     ]
    }
   ],
   "source": [
    "p_coffee_drinker = 0.65\n",
    "p_cancer = 0.005\n",
    "p_coffee_drinker_given_cancer = 0.85\n",
    "\n",
    "p_cancer_given_drinker = p_coffee_drinker_given_cancer * p_cancer / p_coffee_drinker\n",
    "print(p_cancer_given_drinker)"
   ]
  },
  {
   "cell_type": "markdown",
   "id": "7ef6de36-5ba0-40c5-8c28-29fab195367e",
   "metadata": {},
   "source": [
    "## Binomial Distribution \n",
    "##### Example 2-2. Using SciPy for binomial distribution"
   ]
  },
  {
   "cell_type": "code",
   "execution_count": 2,
   "id": "5674b0da-3576-405f-a7f9-2f525ba5f217",
   "metadata": {},
   "outputs": [
    {
     "name": "stdout",
     "output_type": "stream",
     "text": [
      "0 - 9.999999999999978e-11\n",
      "1 - 8.999999999999986e-09\n",
      "2 - 3.644999999999997e-07\n",
      "3 - 8.747999999999995e-06\n",
      "4 - 0.00013778099999999982\n",
      "5 - 0.0014880347999999988\n",
      "6 - 0.011160261000000001\n",
      "7 - 0.05739562799999998\n",
      "8 - 0.1937102445\n",
      "9 - 0.387420489\n",
      "10 - 0.3486784401000001\n"
     ]
    }
   ],
   "source": [
    "from scipy.stats import binom\n",
    "\n",
    "n = 10\n",
    "p = 0.9\n",
    "\n",
    "for k in range(n+1):\n",
    "    probability = binom.pmf(k, n, p)\n",
    "    print(f\"{k} - {probability}\")"
   ]
  },
  {
   "cell_type": "markdown",
   "id": "2f260555-93c4-4580-8c4c-323592abad51",
   "metadata": {},
   "source": [
    "##### Example 2-3. Beta distribution using SciPy"
   ]
  },
  {
   "cell_type": "code",
   "execution_count": 4,
   "id": "fbbe0225-ec48-4d2d-840d-59036978979e",
   "metadata": {},
   "outputs": [
    {
     "name": "stdout",
     "output_type": "stream",
     "text": [
      "0.7748409780000002\n"
     ]
    }
   ],
   "source": [
    "from scipy.stats import beta\n",
    "\n",
    "a = 8\n",
    "b = 2\n",
    "\n",
    "p = beta.cdf(0.90, a, b)\n",
    "print(p)"
   ]
  },
  {
   "cell_type": "markdown",
   "id": "769a7542-47e9-4346-91a9-b4d14ea35fd4",
   "metadata": {},
   "source": [
    "##### Example 2-4. Subtracting to get a right area in a beta distribution"
   ]
  },
  {
   "cell_type": "code",
   "execution_count": 9,
   "id": "83cab279-a28b-4eac-84e6-d9f86b74b464",
   "metadata": {},
   "outputs": [
    {
     "name": "stdout",
     "output_type": "stream",
     "text": [
      "0.22515902199999982\n"
     ]
    }
   ],
   "source": [
    "from scipy.stats import beta\n",
    "\n",
    "a = 8\n",
    "b = 2\n",
    "\n",
    "p = 1 - beta.cdf(0.90, a, b)\n",
    "print(p)"
   ]
  },
  {
   "cell_type": "markdown",
   "id": "eae2eaa1-213e-4198-8483-7b8c249e9992",
   "metadata": {},
   "source": [
    "## Beta Distribution\n",
    "##### Example 2-5. A beta distribution with more trials"
   ]
  },
  {
   "cell_type": "code",
   "execution_count": 8,
   "id": "1cd91d4c-7138-4ddd-8dfb-11836121db7d",
   "metadata": {},
   "outputs": [
    {
     "name": "stdout",
     "output_type": "stream",
     "text": [
      "0.13163577484183697\n"
     ]
    }
   ],
   "source": [
    "from scipy.stats import beta\n",
    "\n",
    "a = 30\n",
    "b = 6\n",
    "\n",
    "p = 1 - beta.cdf(0.90, a, b)\n",
    "print(p)"
   ]
  },
  {
   "cell_type": "markdown",
   "id": "ce49f880-9c60-447f-a0bf-f130732474aa",
   "metadata": {},
   "source": [
    "##### Example 2-6. Beta distribution middle area using SciPy"
   ]
  },
  {
   "cell_type": "code",
   "execution_count": 11,
   "id": "ef01ba1a-1416-4c54-b607-39bf6999f290",
   "metadata": {},
   "outputs": [
    {
     "name": "stdout",
     "output_type": "stream",
     "text": [
      "0.33863336199999994\n"
     ]
    }
   ],
   "source": [
    "from scipy.stats import beta\n",
    "\n",
    "a = 8\n",
    "b = 2\n",
    "\n",
    "p = beta.cdf(0.90, a, b) - beta.cdf(0.80, a, b)\n",
    "print(p)"
   ]
  },
  {
   "cell_type": "markdown",
   "id": "f681f6b2-45f6-48b6-95e9-9f07b10a4a0c",
   "metadata": {},
   "source": [
    "## Exercises\n",
    "1) There is a 30% chance of rain today, and a 40% chance your umbrella order will arrive on time. You are eager to walk in the rain today and cannot do so without either! What is the probability it will rain AND your umbrella will arive? <br>\n",
    "   Ans:"
   ]
  },
  {
   "cell_type": "code",
   "execution_count": 13,
   "id": "6402ccec-0832-4518-bbac-6a192be2bbe5",
   "metadata": {},
   "outputs": [
    {
     "data": {
      "text/plain": [
       "0.12"
      ]
     },
     "execution_count": 13,
     "metadata": {},
     "output_type": "execute_result"
    }
   ],
   "source": [
    "0.3 * 0.4"
   ]
  },
  {
   "cell_type": "markdown",
   "id": "3f910191-74d0-4d95-88db-fef175450246",
   "metadata": {},
   "source": [
    "2) There is a 30% chance of rain today, and a 40% chance your umbrella order will arrive on time. You will be able to run errands only if it does not rain or your umbrella arrives. What is the probability it will not rain OR your umbrella will arrive? <br>\n",
    "   Ans:"
   ]
  },
  {
   "cell_type": "code",
   "execution_count": 15,
   "id": "e027ddb8-df1d-438b-8273-2ca1c1374814",
   "metadata": {},
   "outputs": [
    {
     "data": {
      "text/plain": [
       "0.9800000000000001"
      ]
     },
     "execution_count": 15,
     "metadata": {},
     "output_type": "execute_result"
    }
   ],
   "source": [
    "(1 - 0.3) + 0.4 - (0.3 * 0.4)"
   ]
  },
  {
   "cell_type": "markdown",
   "id": "6aad45d8-4a47-40f4-aba0-a26a64630af8",
   "metadata": {},
   "source": [
    "3) There is a 30% chance of rain today, and a 40% chance your umbrella order will arrive on time. However, you found out if it rains there is only 20% chance your umbrella will arrive on time. What is the probability it will rain AND your umbrella will arrive on time? <br>\n",
    "   Ans:"
   ]
  },
  {
   "cell_type": "code",
   "execution_count": 16,
   "id": "0bfe7ad4-3b7b-46b2-91a4-cf1db141d50b",
   "metadata": {},
   "outputs": [
    {
     "data": {
      "text/plain": [
       "0.06"
      ]
     },
     "execution_count": 16,
     "metadata": {},
     "output_type": "execute_result"
    }
   ],
   "source": [
    "0.3 * 0.2"
   ]
  },
  {
   "cell_type": "markdown",
   "id": "5b4a4d14-a0b8-46be-959e-868262ac2821",
   "metadata": {},
   "source": [
    "4) You have 137 passengers booked on a flight from Las Vegas to Dallas. However, it is Las Vegas on a Sunday morning and you can estimate each passenger is 40% likely to not show up. You are trying to figure out how many seats to overlook so the plane does not fly empty. How likely is it at least 50 passengers not show up? <br>\n",
    "   Ans:"
   ]
  },
  {
   "cell_type": "code",
   "execution_count": 17,
   "id": "9bf24932-de7f-40b6-b548-4aeb756cb30b",
   "metadata": {},
   "outputs": [
    {
     "name": "stdout",
     "output_type": "stream",
     "text": [
      "0.822095588147425\n"
     ]
    }
   ],
   "source": [
    "from scipy.stats import binom\n",
    "\n",
    "n = 137\n",
    "p = 0.40\n",
    "\n",
    "p_50_or_more_noshows = 0\n",
    "for i in range(50, 138):\n",
    "    p_50_or_more_noshows += binom.pmf(i, n, p)\n",
    "\n",
    "print(p_50_or_more_noshows)"
   ]
  },
  {
   "cell_type": "markdown",
   "id": "6fd0e83d-11c8-4909-997e-47043aeccfbf",
   "metadata": {},
   "source": [
    "5) You flipped a coin 19 times and got heads 15 times and tails 4 times. Do you think this coin has any good probability of being fair? Why or Why not? <br>\n",
    "   Ans: Coin is highly unlikely to be fair as area upto 0.5 subtracted from 1, results in 0.98."
   ]
  },
  {
   "cell_type": "code",
   "execution_count": 19,
   "id": "469b813a-688f-461b-8f5a-a8c52060a471",
   "metadata": {},
   "outputs": [
    {
     "name": "stdout",
     "output_type": "stream",
     "text": [
      "0.98046875\n"
     ]
    }
   ],
   "source": [
    "from scipy.stats import beta\n",
    "\n",
    "heads = 8\n",
    "tails = 2\n",
    "\n",
    "p = 1 - beta.cdf(0.5, heads, tails)\n",
    "print(p)"
   ]
  }
 ],
 "metadata": {
  "kernelspec": {
   "display_name": "Python 3 (ipykernel)",
   "language": "python",
   "name": "python3"
  },
  "language_info": {
   "codemirror_mode": {
    "name": "ipython",
    "version": 3
   },
   "file_extension": ".py",
   "mimetype": "text/x-python",
   "name": "python",
   "nbconvert_exporter": "python",
   "pygments_lexer": "ipython3",
   "version": "3.10.8"
  }
 },
 "nbformat": 4,
 "nbformat_minor": 5
}
