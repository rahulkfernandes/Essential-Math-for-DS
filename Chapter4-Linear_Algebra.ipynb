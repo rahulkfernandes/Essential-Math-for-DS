{
 "cells": [
  {
   "cell_type": "markdown",
   "id": "3078f50e-651d-4c93-96a6-2a4f04fee704",
   "metadata": {},
   "source": [
    "# Chapter 4: Linear Algebra"
   ]
  },
  {
   "cell_type": "markdown",
   "id": "99ef57d9-8025-448c-a59d-b052e40b0cf0",
   "metadata": {},
   "source": [
    "## What Is a Vector?\n",
    "##### Example 4-1. Declaring a vector in Python using a list"
   ]
  },
  {
   "cell_type": "code",
   "execution_count": 1,
   "id": "1d8da732-3f32-4740-9b21-ac840dc38145",
   "metadata": {},
   "outputs": [
    {
     "name": "stdout",
     "output_type": "stream",
     "text": [
      "[3, 2]\n"
     ]
    }
   ],
   "source": [
    "v = [3, 2]\n",
    "print(v)"
   ]
  },
  {
   "cell_type": "markdown",
   "id": "1684119a-d718-4752-b36b-c25fb4ea3784",
   "metadata": {},
   "source": [
    "##### Example 4-2. Declaring a vector in Python using Numpy"
   ]
  },
  {
   "cell_type": "code",
   "execution_count": 2,
   "id": "e19c7179-72dd-4126-b60d-dd55c7ec309f",
   "metadata": {},
   "outputs": [],
   "source": [
    "# import numpy\n",
    "import numpy as np"
   ]
  },
  {
   "cell_type": "code",
   "execution_count": 3,
   "id": "f8d43e6d-2d1b-48fe-bd6d-3c9c30a6da19",
   "metadata": {},
   "outputs": [
    {
     "name": "stdout",
     "output_type": "stream",
     "text": [
      "[3 2]\n"
     ]
    }
   ],
   "source": [
    "v = np.array([3, 2])\n",
    "print(v)"
   ]
  },
  {
   "cell_type": "markdown",
   "id": "bf77bac6-5d41-499f-afb4-7a0227b367f9",
   "metadata": {},
   "source": [
    "##### Example 4-3. Declaring a three-dimensional vector in Python using Numpy"
   ]
  },
  {
   "cell_type": "code",
   "execution_count": 4,
   "id": "c48a8009-bcd7-41e8-b7ac-a496443c46d8",
   "metadata": {},
   "outputs": [
    {
     "name": "stdout",
     "output_type": "stream",
     "text": [
      "[4 1 2]\n"
     ]
    }
   ],
   "source": [
    "v = np.array([4, 1, 2])\n",
    "print(v)"
   ]
  },
  {
   "cell_type": "markdown",
   "id": "e7c4b86b-fa81-484f-89c4-2f1fa6e49871",
   "metadata": {},
   "source": [
    "##### Example 4-4. Declaring a five-dimensional vector in Python using Numpy"
   ]
  },
  {
   "cell_type": "code",
   "execution_count": 5,
   "id": "7e5f4726-120c-4120-8dbd-0613b44a5148",
   "metadata": {},
   "outputs": [
    {
     "name": "stdout",
     "output_type": "stream",
     "text": [
      "[6 1 5 8 3]\n"
     ]
    }
   ],
   "source": [
    "v = np.array([6, 1, 5, 8, 3])\n",
    "print(v)"
   ]
  },
  {
   "cell_type": "markdown",
   "id": "11940b9e-5a5f-44d9-95c8-03c017bfcef2",
   "metadata": {},
   "source": [
    "#### Adding and Combining Vectors\n",
    "##### Example 4-5. Adding two vectors in Python using Numpy"
   ]
  },
  {
   "cell_type": "code",
   "execution_count": 6,
   "id": "b9f3f9eb-efc6-476b-bfe4-abafb71289a3",
   "metadata": {},
   "outputs": [
    {
     "name": "stdout",
     "output_type": "stream",
     "text": [
      "[5 1]\n"
     ]
    }
   ],
   "source": [
    "v = np.array([3, 2])\n",
    "w = np.array([2, -1])\n",
    "\n",
    "sum = v + w\n",
    "print(sum)"
   ]
  },
  {
   "cell_type": "markdown",
   "id": "a064b521-53bb-443c-9b54-3910fc9d9fb0",
   "metadata": {},
   "source": [
    "### Scaling Vectors\n",
    "##### Example 4-6. Scaling a number in Python using Numpy"
   ]
  },
  {
   "cell_type": "code",
   "execution_count": 8,
   "id": "cf8d8fc3-4383-4636-813c-9a28adeea91a",
   "metadata": {},
   "outputs": [
    {
     "name": "stdout",
     "output_type": "stream",
     "text": [
      "[6 2]\n"
     ]
    }
   ],
   "source": [
    "v = np.array([3,1])\n",
    "\n",
    "scaled_v = 2 * v\n",
    "\n",
    "print(scaled_v)"
   ]
  },
  {
   "cell_type": "markdown",
   "id": "88b2d27f-fa8e-413f-9e26-40a7cfb3a177",
   "metadata": {},
   "source": [
    "## Linear Transformations\n",
    "### Matrix Vector Multiplication\n",
    "##### Example 4-7. Matrix vector mulitplication in Numpy"
   ]
  },
  {
   "cell_type": "code",
   "execution_count": 9,
   "id": "b7392c1c-cf8d-4925-9a30-513a28083846",
   "metadata": {},
   "outputs": [
    {
     "name": "stdout",
     "output_type": "stream",
     "text": [
      "[ 3 -2]\n"
     ]
    }
   ],
   "source": [
    "basis = np.array(\n",
    "    [[3,0],\n",
    "    [0,2]]\n",
    ")\n",
    "\n",
    "v = np.array([1, -1])\n",
    "\n",
    "# dot product\n",
    "new_v = basis.dot(v)\n",
    "print(new_v)"
   ]
  },
  {
   "cell_type": "markdown",
   "id": "e5a8c157-0a82-44bf-b406-2d87b68a4598",
   "metadata": {},
   "source": [
    "##### Example 4-8. Separating the basis vectors and applying them as a tranformation"
   ]
  },
  {
   "cell_type": "code",
   "execution_count": 11,
   "id": "eb28ec74-45f3-4e0a-a650-4fe5ae33bb71",
   "metadata": {},
   "outputs": [
    {
     "name": "stdout",
     "output_type": "stream",
     "text": [
      "[2 3]\n"
     ]
    }
   ],
   "source": [
    "# Declare i_hat & j_hat\n",
    "i_hat = np.array([2,0])\n",
    "j_hat = np.array([0,3])\n",
    "\n",
    "basis = np.array([i_hat, j_hat]).transpose()\n",
    "\n",
    "# Declare vector v\n",
    "v = np.array([1,1])\n",
    "\n",
    "new_v = basis.dot(v)\n",
    "\n",
    "print(new_v)"
   ]
  },
  {
   "cell_type": "markdown",
   "id": "43c2b679-c63e-4398-a916-e75f867795f7",
   "metadata": {},
   "source": [
    "##### Example 4-9. Transforming a vector using Numpy"
   ]
  },
  {
   "cell_type": "code",
   "execution_count": 3,
   "id": "161d2f47-bc5f-4e67-91e9-9a717aae8078",
   "metadata": {},
   "outputs": [
    {
     "name": "stdout",
     "output_type": "stream",
     "text": [
      "[4 3]\n"
     ]
    }
   ],
   "source": [
    "i_hat = np.array([2,0])\n",
    "j_hat = np.array([0,3])\n",
    "\n",
    "basis = np.array([i_hat, j_hat]).transpose()\n",
    "\n",
    "v = np.array([2,1])\n",
    "\n",
    "new_v = basis.dot(v)\n",
    "\n",
    "print(new_v)"
   ]
  },
  {
   "cell_type": "markdown",
   "id": "9ca9c13b-31c9-4405-a16a-dcdb93b8304d",
   "metadata": {},
   "source": [
    "##### Example 4-10. A more complicated tranformation"
   ]
  },
  {
   "cell_type": "code",
   "execution_count": 4,
   "id": "1db47b90-9e0e-4ca8-8159-fc2966997fb5",
   "metadata": {},
   "outputs": [
    {
     "name": "stdout",
     "output_type": "stream",
     "text": [
      "[6 5]\n"
     ]
    }
   ],
   "source": [
    "i_hat = np.array([2,3])\n",
    "j_hat = np.array([2,-1])\n",
    "\n",
    "basis = np.array([i_hat, j_hat]).transpose()\n",
    "\n",
    "v = np.array([2,1])\n",
    "\n",
    "new_v = basis.dot(v)\n",
    "\n",
    "print(new_v)"
   ]
  },
  {
   "cell_type": "markdown",
   "id": "36d7badb-83b0-4430-b930-68a0642c1af9",
   "metadata": {},
   "source": [
    "## Matrix Multiplication\n",
    "##### 4-11. Combining two transformations"
   ]
  },
  {
   "cell_type": "code",
   "execution_count": 6,
   "id": "a257f40a-d907-4911-93d6-0c15eb682f30",
   "metadata": {},
   "outputs": [
    {
     "name": "stdout",
     "output_type": "stream",
     "text": [
      "Combined Matrix:\n",
      "[[ 1 -1]\n",
      " [ 1  0]]\n",
      "[-1  1]\n"
     ]
    }
   ],
   "source": [
    "# Tranformation 1\n",
    "i_hat1 = np.array([0,1])\n",
    "j_hat1 = np.array([-1,0])\n",
    "transform1 = np.array([i_hat1, j_hat1]).transpose()\n",
    "\n",
    "# Tranformation 2\n",
    "i_hat2 = np.array([1,0])\n",
    "j_hat2 = np.array([1,1])\n",
    "transform2 = np.array([i_hat2, j_hat2]).transpose()\n",
    "\n",
    "# Combine\n",
    "combined = transform2 @ transform1\n",
    "\n",
    "# Test\n",
    "print(f'Combined Matrix:\\n{combined}')\n",
    "\n",
    "v = np.array([1,2])\n",
    "print(combined.dot(v))"
   ]
  },
  {
   "cell_type": "markdown",
   "id": "e2e304fe-cedd-4c95-990f-a323070d3f2b",
   "metadata": {},
   "source": [
    "##### Example 4-12. Applying the transformations in reverse"
   ]
  },
  {
   "cell_type": "code",
   "execution_count": 7,
   "id": "0e11b0ea-2a05-4b75-a1ba-815e1a84b685",
   "metadata": {},
   "outputs": [
    {
     "name": "stdout",
     "output_type": "stream",
     "text": [
      "Combined Matrix:\n",
      "[[ 1 -1]\n",
      " [ 1  0]]\n",
      "[-5 -2]\n"
     ]
    }
   ],
   "source": [
    "# Tranformation 1\n",
    "i_hat1 = np.array([0,1])\n",
    "j_hat1 = np.array([-1,0])\n",
    "transform1 = np.array([i_hat1, j_hat1]).transpose()\n",
    "\n",
    "# Tranformation 2\n",
    "i_hat2 = np.array([1,0])\n",
    "j_hat2 = np.array([1,1])\n",
    "transform2 = np.array([i_hat2, j_hat2]).transpose()\n",
    "\n",
    "# Combine\n",
    "combined = transform2 @ transform1\n",
    "\n",
    "# Test\n",
    "print(f'Combined Matrix:\\n{combined}')\n",
    "\n",
    "v = np.array([-2,3])\n",
    "print(combined.dot(v))"
   ]
  }
 ],
 "metadata": {
  "kernelspec": {
   "display_name": "Python 3 (ipykernel)",
   "language": "python",
   "name": "python3"
  },
  "language_info": {
   "codemirror_mode": {
    "name": "ipython",
    "version": 3
   },
   "file_extension": ".py",
   "mimetype": "text/x-python",
   "name": "python",
   "nbconvert_exporter": "python",
   "pygments_lexer": "ipython3",
   "version": "3.10.8"
  }
 },
 "nbformat": 4,
 "nbformat_minor": 5
}
