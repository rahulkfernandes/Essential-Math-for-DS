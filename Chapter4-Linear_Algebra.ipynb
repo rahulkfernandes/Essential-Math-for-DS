{
 "cells": [
  {
   "cell_type": "markdown",
   "id": "3078f50e-651d-4c93-96a6-2a4f04fee704",
   "metadata": {},
   "source": [
    "# Chapter 4: Linear Algebra"
   ]
  },
  {
   "cell_type": "markdown",
   "id": "99ef57d9-8025-448c-a59d-b052e40b0cf0",
   "metadata": {},
   "source": [
    "## What Is a Vector?\n",
    "##### Example 4-1. Declaring a vector in Python using a list"
   ]
  },
  {
   "cell_type": "code",
   "execution_count": 1,
   "id": "1d8da732-3f32-4740-9b21-ac840dc38145",
   "metadata": {},
   "outputs": [
    {
     "name": "stdout",
     "output_type": "stream",
     "text": [
      "[3, 2]\n"
     ]
    }
   ],
   "source": [
    "v = [3, 2]\n",
    "print(v)"
   ]
  },
  {
   "cell_type": "markdown",
   "id": "1684119a-d718-4752-b36b-c25fb4ea3784",
   "metadata": {},
   "source": [
    "##### Example 4-2. Declaring a vector in Python using Numpy"
   ]
  },
  {
   "cell_type": "code",
   "execution_count": 2,
   "id": "e19c7179-72dd-4126-b60d-dd55c7ec309f",
   "metadata": {},
   "outputs": [],
   "source": [
    "# import numpy\n",
    "import numpy as np"
   ]
  },
  {
   "cell_type": "code",
   "execution_count": 3,
   "id": "f8d43e6d-2d1b-48fe-bd6d-3c9c30a6da19",
   "metadata": {},
   "outputs": [
    {
     "name": "stdout",
     "output_type": "stream",
     "text": [
      "[3 2]\n"
     ]
    }
   ],
   "source": [
    "v = np.array([3, 2])\n",
    "print(v)"
   ]
  },
  {
   "cell_type": "markdown",
   "id": "bf77bac6-5d41-499f-afb4-7a0227b367f9",
   "metadata": {},
   "source": [
    "##### Example 4-3. Declaring a three-dimensional vector in Python using Numpy"
   ]
  },
  {
   "cell_type": "code",
   "execution_count": 4,
   "id": "c48a8009-bcd7-41e8-b7ac-a496443c46d8",
   "metadata": {},
   "outputs": [
    {
     "name": "stdout",
     "output_type": "stream",
     "text": [
      "[4 1 2]\n"
     ]
    }
   ],
   "source": [
    "v = np.array([4, 1, 2])\n",
    "print(v)"
   ]
  },
  {
   "cell_type": "markdown",
   "id": "e7c4b86b-fa81-484f-89c4-2f1fa6e49871",
   "metadata": {},
   "source": [
    "##### Example 4-4. Declaring a five-dimensional vector in Python using Numpy"
   ]
  },
  {
   "cell_type": "code",
   "execution_count": 5,
   "id": "7e5f4726-120c-4120-8dbd-0613b44a5148",
   "metadata": {},
   "outputs": [
    {
     "name": "stdout",
     "output_type": "stream",
     "text": [
      "[6 1 5 8 3]\n"
     ]
    }
   ],
   "source": [
    "v = np.array([6, 1, 5, 8, 3])\n",
    "print(v)"
   ]
  },
  {
   "cell_type": "markdown",
   "id": "11940b9e-5a5f-44d9-95c8-03c017bfcef2",
   "metadata": {},
   "source": [
    "##### Example 4-5. Adding two vectors in Python using Numpy"
   ]
  },
  {
   "cell_type": "code",
   "execution_count": 6,
   "id": "b9f3f9eb-efc6-476b-bfe4-abafb71289a3",
   "metadata": {},
   "outputs": [
    {
     "name": "stdout",
     "output_type": "stream",
     "text": [
      "[5 1]\n"
     ]
    }
   ],
   "source": [
    "v = np.array([3, 2])\n",
    "w = np.array([2, -1])\n",
    "\n",
    "sum = v + w\n",
    "print(sum)"
   ]
  },
  {
   "cell_type": "markdown",
   "id": "a064b521-53bb-443c-9b54-3910fc9d9fb0",
   "metadata": {},
   "source": [
    "##### Example 4-6. Scaling a number in Python using Numpy"
   ]
  },
  {
   "cell_type": "code",
   "execution_count": 7,
   "id": "cf8d8fc3-4383-4636-813c-9a28adeea91a",
   "metadata": {},
   "outputs": [
    {
     "name": "stdout",
     "output_type": "stream",
     "text": [
      "[6 2]\n"
     ]
    }
   ],
   "source": [
    "v = np.array([3,1])\n",
    "\n",
    "scaled_v = 2 * v\n",
    "\n",
    "print(scaled_v)"
   ]
  }
 ],
 "metadata": {
  "kernelspec": {
   "display_name": "Python 3 (ipykernel)",
   "language": "python",
   "name": "python3"
  },
  "language_info": {
   "codemirror_mode": {
    "name": "ipython",
    "version": 3
   },
   "file_extension": ".py",
   "mimetype": "text/x-python",
   "name": "python",
   "nbconvert_exporter": "python",
   "pygments_lexer": "ipython3",
   "version": "3.10.8"
  }
 },
 "nbformat": 4,
 "nbformat_minor": 5
}
