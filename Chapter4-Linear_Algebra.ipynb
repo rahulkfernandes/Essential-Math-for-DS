{
 "cells": [
  {
   "cell_type": "markdown",
   "id": "3078f50e-651d-4c93-96a6-2a4f04fee704",
   "metadata": {},
   "source": [
    "# Chapter 4: Linear Algebra"
   ]
  },
  {
   "cell_type": "markdown",
   "id": "99ef57d9-8025-448c-a59d-b052e40b0cf0",
   "metadata": {},
   "source": [
    "## What Is a Vector?\n",
    "##### Example 4-1. Declaring a vector in Python using a list"
   ]
  },
  {
   "cell_type": "code",
   "execution_count": 1,
   "id": "1d8da732-3f32-4740-9b21-ac840dc38145",
   "metadata": {},
   "outputs": [
    {
     "name": "stdout",
     "output_type": "stream",
     "text": [
      "[3, 2]\n"
     ]
    }
   ],
   "source": [
    "v = [3, 2]\n",
    "print(v)"
   ]
  },
  {
   "cell_type": "markdown",
   "id": "1684119a-d718-4752-b36b-c25fb4ea3784",
   "metadata": {},
   "source": [
    "##### Example 4-2. Declaring a vector in Python using Numpy"
   ]
  },
  {
   "cell_type": "code",
   "execution_count": 1,
   "id": "e19c7179-72dd-4126-b60d-dd55c7ec309f",
   "metadata": {},
   "outputs": [],
   "source": [
    "# import numpy\n",
    "import numpy as np"
   ]
  },
  {
   "cell_type": "code",
   "execution_count": 3,
   "id": "f8d43e6d-2d1b-48fe-bd6d-3c9c30a6da19",
   "metadata": {},
   "outputs": [
    {
     "name": "stdout",
     "output_type": "stream",
     "text": [
      "[3 2]\n"
     ]
    }
   ],
   "source": [
    "v = np.array([3, 2])\n",
    "print(v)"
   ]
  },
  {
   "cell_type": "markdown",
   "id": "bf77bac6-5d41-499f-afb4-7a0227b367f9",
   "metadata": {},
   "source": [
    "##### Example 4-3. Declaring a three-dimensional vector in Python using Numpy"
   ]
  },
  {
   "cell_type": "code",
   "execution_count": 4,
   "id": "c48a8009-bcd7-41e8-b7ac-a496443c46d8",
   "metadata": {},
   "outputs": [
    {
     "name": "stdout",
     "output_type": "stream",
     "text": [
      "[4 1 2]\n"
     ]
    }
   ],
   "source": [
    "v = np.array([4, 1, 2])\n",
    "print(v)"
   ]
  },
  {
   "cell_type": "markdown",
   "id": "e7c4b86b-fa81-484f-89c4-2f1fa6e49871",
   "metadata": {},
   "source": [
    "##### Example 4-4. Declaring a five-dimensional vector in Python using Numpy"
   ]
  },
  {
   "cell_type": "code",
   "execution_count": 5,
   "id": "7e5f4726-120c-4120-8dbd-0613b44a5148",
   "metadata": {},
   "outputs": [
    {
     "name": "stdout",
     "output_type": "stream",
     "text": [
      "[6 1 5 8 3]\n"
     ]
    }
   ],
   "source": [
    "v = np.array([6, 1, 5, 8, 3])\n",
    "print(v)"
   ]
  },
  {
   "cell_type": "markdown",
   "id": "11940b9e-5a5f-44d9-95c8-03c017bfcef2",
   "metadata": {},
   "source": [
    "#### Adding and Combining Vectors\n",
    "##### Example 4-5. Adding two vectors in Python using Numpy"
   ]
  },
  {
   "cell_type": "code",
   "execution_count": 6,
   "id": "b9f3f9eb-efc6-476b-bfe4-abafb71289a3",
   "metadata": {},
   "outputs": [
    {
     "name": "stdout",
     "output_type": "stream",
     "text": [
      "[5 1]\n"
     ]
    }
   ],
   "source": [
    "v = np.array([3, 2])\n",
    "w = np.array([2, -1])\n",
    "\n",
    "sum = v + w\n",
    "print(sum)"
   ]
  },
  {
   "cell_type": "markdown",
   "id": "a064b521-53bb-443c-9b54-3910fc9d9fb0",
   "metadata": {},
   "source": [
    "### Scaling Vectors\n",
    "##### Example 4-6. Scaling a number in Python using Numpy"
   ]
  },
  {
   "cell_type": "code",
   "execution_count": 8,
   "id": "cf8d8fc3-4383-4636-813c-9a28adeea91a",
   "metadata": {},
   "outputs": [
    {
     "name": "stdout",
     "output_type": "stream",
     "text": [
      "[6 2]\n"
     ]
    }
   ],
   "source": [
    "v = np.array([3,1])\n",
    "\n",
    "scaled_v = 2 * v\n",
    "\n",
    "print(scaled_v)"
   ]
  },
  {
   "cell_type": "markdown",
   "id": "88b2d27f-fa8e-413f-9e26-40a7cfb3a177",
   "metadata": {},
   "source": [
    "## Linear Transformations\n",
    "### Matrix Vector Multiplication\n",
    "##### Example 4-7. Matrix vector mulitplication in Numpy"
   ]
  },
  {
   "cell_type": "code",
   "execution_count": 9,
   "id": "b7392c1c-cf8d-4925-9a30-513a28083846",
   "metadata": {},
   "outputs": [
    {
     "name": "stdout",
     "output_type": "stream",
     "text": [
      "[ 3 -2]\n"
     ]
    }
   ],
   "source": [
    "basis = np.array(\n",
    "    [[3,0],\n",
    "    [0,2]]\n",
    ")\n",
    "\n",
    "v = np.array([1, -1])\n",
    "\n",
    "# dot product\n",
    "new_v = basis.dot(v)\n",
    "print(new_v)"
   ]
  },
  {
   "cell_type": "markdown",
   "id": "e5a8c157-0a82-44bf-b406-2d87b68a4598",
   "metadata": {},
   "source": [
    "##### Example 4-8. Separating the basis vectors and applying them as a tranformation"
   ]
  },
  {
   "cell_type": "code",
   "execution_count": 11,
   "id": "eb28ec74-45f3-4e0a-a650-4fe5ae33bb71",
   "metadata": {},
   "outputs": [
    {
     "name": "stdout",
     "output_type": "stream",
     "text": [
      "[2 3]\n"
     ]
    }
   ],
   "source": [
    "# Declare i_hat & j_hat\n",
    "i_hat = np.array([2,0])\n",
    "j_hat = np.array([0,3])\n",
    "\n",
    "basis = np.array([i_hat, j_hat]).transpose()\n",
    "\n",
    "# Declare vector v\n",
    "v = np.array([1,1])\n",
    "\n",
    "new_v = basis.dot(v)\n",
    "\n",
    "print(new_v)"
   ]
  },
  {
   "cell_type": "markdown",
   "id": "43c2b679-c63e-4398-a916-e75f867795f7",
   "metadata": {},
   "source": [
    "##### Example 4-9. Transforming a vector using Numpy"
   ]
  },
  {
   "cell_type": "code",
   "execution_count": 3,
   "id": "161d2f47-bc5f-4e67-91e9-9a717aae8078",
   "metadata": {},
   "outputs": [
    {
     "name": "stdout",
     "output_type": "stream",
     "text": [
      "[4 3]\n"
     ]
    }
   ],
   "source": [
    "i_hat = np.array([2,0])\n",
    "j_hat = np.array([0,3])\n",
    "\n",
    "basis = np.array([i_hat, j_hat]).transpose()\n",
    "\n",
    "v = np.array([2,1])\n",
    "\n",
    "new_v = basis.dot(v)\n",
    "\n",
    "print(new_v)"
   ]
  },
  {
   "cell_type": "markdown",
   "id": "9ca9c13b-31c9-4405-a16a-dcdb93b8304d",
   "metadata": {},
   "source": [
    "##### Example 4-10. A more complicated tranformation"
   ]
  },
  {
   "cell_type": "code",
   "execution_count": 4,
   "id": "1db47b90-9e0e-4ca8-8159-fc2966997fb5",
   "metadata": {},
   "outputs": [
    {
     "name": "stdout",
     "output_type": "stream",
     "text": [
      "[6 5]\n"
     ]
    }
   ],
   "source": [
    "i_hat = np.array([2,3])\n",
    "j_hat = np.array([2,-1])\n",
    "\n",
    "basis = np.array([i_hat, j_hat]).transpose()\n",
    "\n",
    "v = np.array([2,1])\n",
    "\n",
    "new_v = basis.dot(v)\n",
    "\n",
    "print(new_v)"
   ]
  },
  {
   "cell_type": "markdown",
   "id": "36d7badb-83b0-4430-b930-68a0642c1af9",
   "metadata": {},
   "source": [
    "## Matrix Multiplication\n",
    "##### 4-11. Combining two transformations"
   ]
  },
  {
   "cell_type": "code",
   "execution_count": 6,
   "id": "a257f40a-d907-4911-93d6-0c15eb682f30",
   "metadata": {},
   "outputs": [
    {
     "name": "stdout",
     "output_type": "stream",
     "text": [
      "Combined Matrix:\n",
      "[[ 1 -1]\n",
      " [ 1  0]]\n",
      "[-1  1]\n"
     ]
    }
   ],
   "source": [
    "# Tranformation 1\n",
    "i_hat1 = np.array([0,1])\n",
    "j_hat1 = np.array([-1,0])\n",
    "transform1 = np.array([i_hat1, j_hat1]).transpose()\n",
    "\n",
    "# Tranformation 2\n",
    "i_hat2 = np.array([1,0])\n",
    "j_hat2 = np.array([1,1])\n",
    "transform2 = np.array([i_hat2, j_hat2]).transpose()\n",
    "\n",
    "# Combine\n",
    "combined = transform2 @ transform1\n",
    "\n",
    "# Test\n",
    "print(f'Combined Matrix:\\n{combined}')\n",
    "\n",
    "v = np.array([1,2])\n",
    "print(combined.dot(v))"
   ]
  },
  {
   "cell_type": "markdown",
   "id": "e2e304fe-cedd-4c95-990f-a323070d3f2b",
   "metadata": {},
   "source": [
    "##### Example 4-12. Applying the transformations in reverse"
   ]
  },
  {
   "cell_type": "code",
   "execution_count": 3,
   "id": "0e11b0ea-2a05-4b75-a1ba-815e1a84b685",
   "metadata": {},
   "outputs": [
    {
     "name": "stdout",
     "output_type": "stream",
     "text": [
      "Combined Matrix:\n",
      "[[ 1 -1]\n",
      " [ 1  0]]\n",
      "[-5 -2]\n"
     ]
    }
   ],
   "source": [
    "# Tranformation 1\n",
    "i_hat1 = np.array([0,1])\n",
    "j_hat1 = np.array([-1,0])\n",
    "transform1 = np.array([i_hat1, j_hat1]).transpose()\n",
    "\n",
    "# Tranformation 2\n",
    "i_hat2 = np.array([1,0])\n",
    "j_hat2 = np.array([1,1])\n",
    "transform2 = np.array([i_hat2, j_hat2]).transpose()\n",
    "\n",
    "# Combine\n",
    "combined = transform2 @ transform1\n",
    "\n",
    "# Test\n",
    "print(f'Combined Matrix:\\n{combined}')\n",
    "\n",
    "v = np.array([-2,3])\n",
    "print(combined.dot(v))"
   ]
  },
  {
   "cell_type": "markdown",
   "id": "75ca3871-816f-4a36-b933-ce470cac3097",
   "metadata": {},
   "source": [
    "## Determinants\n",
    "##### 4-13. Calculating a determinant"
   ]
  },
  {
   "cell_type": "code",
   "execution_count": 7,
   "id": "446454ac-30c5-49ce-b7f7-00fd2eeb4af2",
   "metadata": {},
   "outputs": [
    {
     "name": "stdout",
     "output_type": "stream",
     "text": [
      "6.0\n"
     ]
    }
   ],
   "source": [
    "from numpy.linalg import det\n",
    "\n",
    "i_hat = np.array([3,0])\n",
    "j_hat = np.array([0,2])\n",
    "\n",
    "basis = np.array([i_hat, j_hat]).transpose()\n",
    "\n",
    "determinant = det(basis)\n",
    "\n",
    "print(determinant)"
   ]
  },
  {
   "cell_type": "markdown",
   "id": "9fb95f54-926a-4186-8054-66116458fa36",
   "metadata": {},
   "source": [
    "##### Example 4-14. A determinant for a shear"
   ]
  },
  {
   "cell_type": "code",
   "execution_count": 8,
   "id": "83277f2b-085d-4ddb-b0c6-3c968c5d2fb6",
   "metadata": {},
   "outputs": [
    {
     "name": "stdout",
     "output_type": "stream",
     "text": [
      "1.0\n"
     ]
    }
   ],
   "source": [
    "i_hat = np.array([1,0])\n",
    "j_hat = np.array([1,1])\n",
    "\n",
    "basis = np.array([i_hat, j_hat]).transpose()\n",
    "\n",
    "determinant = det(basis)\n",
    "\n",
    "print(determinant)"
   ]
  },
  {
   "cell_type": "markdown",
   "id": "1547719d-56f5-476b-9d8a-f79abe559b7f",
   "metadata": {},
   "source": [
    "##### Example 4-15. A negative determinant"
   ]
  },
  {
   "cell_type": "code",
   "execution_count": 9,
   "id": "ca27637c-773a-477f-abee-296962abab47",
   "metadata": {},
   "outputs": [
    {
     "name": "stdout",
     "output_type": "stream",
     "text": [
      "-5.000000000000001\n"
     ]
    }
   ],
   "source": [
    "i_hat = np.array([-2,1])\n",
    "j_hat = np.array([1,2])\n",
    "\n",
    "basis = np.array([i_hat, j_hat]).transpose()\n",
    "\n",
    "determinant = det(basis)\n",
    "\n",
    "print(determinant)"
   ]
  },
  {
   "cell_type": "markdown",
   "id": "ec8c7708-3ea3-4a93-91a7-3116360846c4",
   "metadata": {},
   "source": [
    "##### Example 4-16. A determinant of zero"
   ]
  },
  {
   "cell_type": "code",
   "execution_count": 10,
   "id": "4128cc56-223b-4842-b13f-f60e4e2d2c76",
   "metadata": {},
   "outputs": [
    {
     "name": "stdout",
     "output_type": "stream",
     "text": [
      "0.0\n"
     ]
    }
   ],
   "source": [
    "i_hat = np.array([-2,1])\n",
    "j_hat = np.array([3,-1.5])\n",
    "\n",
    "basis = np.array([i_hat, j_hat]).transpose()\n",
    "\n",
    "determinant = det(basis)\n",
    "\n",
    "print(determinant)"
   ]
  },
  {
   "cell_type": "markdown",
   "id": "e24bd59b-e92d-4987-8e5f-4dd25b25669a",
   "metadata": {},
   "source": [
    "##### Example 4-17. Using SymPy to study the inverse and identity matrix"
   ]
  },
  {
   "cell_type": "code",
   "execution_count": 18,
   "id": "3b341a5f-94d6-43db-8f91-3e84784ffefb",
   "metadata": {},
   "outputs": [
    {
     "name": "stdout",
     "output_type": "stream",
     "text": [
      "INVERSE: Matrix([[-1/2, 0, 1/3], [11/2, -2, -4/3], [-2, 1, 1/3]])\n",
      "IDENTITY: Matrix([[1, 0, 0], [0, 1, 0], [0, 0, 1]])\n"
     ]
    }
   ],
   "source": [
    "from sympy import *\n",
    "# 4x + 2y + 4z = 44\n",
    "# 5x + 3y + 7z = 56\n",
    "# 9x + 3y + 6z = 72\n",
    "\n",
    "A = Matrix([\n",
    "    [4, 2, 4],\n",
    "    [5, 3, 7],\n",
    "    [9, 3, 6]\n",
    "])\n",
    "\n",
    "inverse = A.inv()\n",
    "identity = inverse * A\n",
    "\n",
    "print(f'INVERSE: {inverse}')\n",
    "print(f'IDENTITY: {identity}')"
   ]
  },
  {
   "cell_type": "markdown",
   "id": "ef0e1090-1b0b-4468-ab18-f1045e0611d4",
   "metadata": {},
   "source": [
    "##### Example 4-18. Using NumPy to solve system of equations"
   ]
  },
  {
   "cell_type": "code",
   "execution_count": 19,
   "id": "db55b1c6-600b-49df-bf78-b999546e0bf3",
   "metadata": {},
   "outputs": [
    {
     "name": "stdout",
     "output_type": "stream",
     "text": [
      "[ 2. 34. -8.]\n"
     ]
    }
   ],
   "source": [
    "from numpy.linalg import inv\n",
    "# 4x + 2y + 4z = 44\n",
    "# 5x + 3y + 7z = 56\n",
    "# 9x + 3y + 6z = 72\n",
    "\n",
    "A = np.array([\n",
    "    [4, 2, 4],\n",
    "    [5, 3, 7],\n",
    "    [9, 3, 6]\n",
    "])\n",
    "B = np.array([\n",
    "    44,\n",
    "    56,\n",
    "    72\n",
    "])\n",
    "\n",
    "x = inv(A).dot(B)\n",
    "\n",
    "print(x)"
   ]
  },
  {
   "cell_type": "markdown",
   "id": "82fcb32b-d90e-47c3-80a9-edda22c92dc8",
   "metadata": {},
   "source": [
    "##### Example 4-19. Using SymPy to solve system of equations"
   ]
  },
  {
   "cell_type": "code",
   "execution_count": 20,
   "id": "8a5212fa-4f8a-4328-bdf8-b655889ef5b5",
   "metadata": {},
   "outputs": [
    {
     "name": "stdout",
     "output_type": "stream",
     "text": [
      "Matrix([[2], [34], [-8]])\n"
     ]
    }
   ],
   "source": [
    "# 4x + 2y + 4z = 44\n",
    "# 5x + 3y + 7z = 56\n",
    "# 9x + 3y + 6z = 72\n",
    "\n",
    "A = Matrix([\n",
    "    [4, 2, 4],\n",
    "    [5, 3, 7],\n",
    "    [9, 3, 6]\n",
    "])\n",
    "B = Matrix([\n",
    "    44,\n",
    "    56,\n",
    "    72\n",
    "])\n",
    "\n",
    "x = A.inv() * B\n",
    "print(x)"
   ]
  },
  {
   "cell_type": "markdown",
   "id": "158694a8-e288-43d8-ae20-49ef969fa660",
   "metadata": {},
   "source": [
    "##### Example 4-20. Performing eigendecompostion in NumPy"
   ]
  },
  {
   "cell_type": "code",
   "execution_count": 22,
   "id": "2a6ee513-5665-48f2-b801-487edb2443a6",
   "metadata": {},
   "outputs": [
    {
     "name": "stdout",
     "output_type": "stream",
     "text": [
      "EIGEN VALUES\n",
      "[-0.46410162  6.46410162]\n",
      "\n",
      "EIGEN VECTORS\n",
      "[[-0.80689822 -0.34372377]\n",
      " [ 0.59069049 -0.9390708 ]]\n"
     ]
    }
   ],
   "source": [
    "from numpy.linalg import eig\n",
    "\n",
    "A = np.array([\n",
    "    [1,2],\n",
    "    [4,5]\n",
    "])\n",
    "eigenvals, eigenvecs = eig(A)\n",
    "\n",
    "print('EIGEN VALUES')\n",
    "print(eigenvals)\n",
    "\n",
    "print('\\nEIGEN VECTORS')\n",
    "print(eigenvecs)"
   ]
  },
  {
   "cell_type": "markdown",
   "id": "ae96b758-c798-49fd-a8d1-d8c3455073e4",
   "metadata": {},
   "source": [
    "##### Example 4-21. Decomposing and recomposing a matrix in NumPy"
   ]
  },
  {
   "cell_type": "code",
   "execution_count": 23,
   "id": "31b11984-277b-428a-ad82-6cc9eddd0059",
   "metadata": {},
   "outputs": [
    {
     "name": "stdout",
     "output_type": "stream",
     "text": [
      "EIGEN VALUES\n",
      "[-0.46410162  6.46410162]\n",
      "\n",
      "EIGEN VECTORS\n",
      "[[-0.80689822 -0.34372377]\n",
      " [ 0.59069049 -0.9390708 ]]\n",
      "\n",
      "REBUILD MATRIX\n",
      "[[1. 2.]\n",
      " [4. 5.]]\n"
     ]
    }
   ],
   "source": [
    "A = np.array([\n",
    "    [1,2],\n",
    "    [4,5]\n",
    "])\n",
    "eigenvals, eigenvecs = eig(A)\n",
    "\n",
    "print('EIGEN VALUES')\n",
    "print(eigenvals)\n",
    "\n",
    "print('\\nEIGEN VECTORS')\n",
    "print(eigenvecs)\n",
    "\n",
    "print('\\nREBUILD MATRIX')\n",
    "Q = eigenvecs\n",
    "R = inv(Q)\n",
    "\n",
    "L = np.diag(eigenvals)\n",
    "B = Q @ L @ R\n",
    "\n",
    "print(B)"
   ]
  }
 ],
 "metadata": {
  "kernelspec": {
   "display_name": "Python 3 (ipykernel)",
   "language": "python",
   "name": "python3"
  },
  "language_info": {
   "codemirror_mode": {
    "name": "ipython",
    "version": 3
   },
   "file_extension": ".py",
   "mimetype": "text/x-python",
   "name": "python",
   "nbconvert_exporter": "python",
   "pygments_lexer": "ipython3",
   "version": "3.10.8"
  }
 },
 "nbformat": 4,
 "nbformat_minor": 5
}
