{
 "cells": [
  {
   "cell_type": "markdown",
   "id": "de230b44-eab7-4b36-b045-aa98bfadf7cd",
   "metadata": {},
   "source": [
    "# Chapter 6: Logistics Regression and Classification"
   ]
  },
  {
   "cell_type": "markdown",
   "id": "842f54a5-00b1-4796-a19f-6d607c542726",
   "metadata": {},
   "source": [
    "## Performing a Logistic Regression\n",
    "### Logistic Function\n",
    "##### Example 6-1. The logistic function in Python for one independant variable"
   ]
  },
  {
   "cell_type": "code",
   "execution_count": 1,
   "id": "44476aba-0e95-433f-a729-465b4567cab8",
   "metadata": {},
   "outputs": [],
   "source": [
    "import math\n",
    "\n",
    "def predict_probability(x, b0, b1):\n",
    "    p = 1.0 / (1.0 + math.exp(-(b0 + b1 * x)))\n",
    "    return p"
   ]
  },
  {
   "cell_type": "markdown",
   "id": "22109c85-0132-4e72-82aa-7a6fcff64132",
   "metadata": {},
   "source": [
    "##### Example 6-2. Using SymPy to plot a logistic function"
   ]
  },
  {
   "cell_type": "code",
   "execution_count": 2,
   "id": "fe451bdc-8727-4a7d-91a6-2bdc9ad2be9d",
   "metadata": {},
   "outputs": [
    {
     "name": "stdout",
     "output_type": "stream",
     "text": [
      "1.0/(1.0 + 16.8272567955368*exp(-0.62*x))\n"
     ]
    },
    {
     "data": {
      "image/png": "[encoded data removed]",
      "text/plain": [
       "<Figure size 640x480 with 1 Axes>"
      ]
     },
     "metadata": {},
     "output_type": "display_data"
    },
    {
     "data": {
      "text/plain": [
       "<sympy.plotting.plot.Plot at 0x1064378b0>"
      ]
     },
     "execution_count": 2,
     "metadata": {},
     "output_type": "execute_result"
    }
   ],
   "source": [
    "from sympy import *\n",
    "\n",
    "b0, b1, x = symbols('b0 b1 x')\n",
    "p = 1.0 / (1.0 + exp(-(b0 + b1 * x)))\n",
    "\n",
    "p = p.subs(b0, -2.823)\n",
    "p = p.subs(b1, 0.620)\n",
    "print(p)\n",
    "\n",
    "plot(p)"
   ]
  },
  {
   "cell_type": "markdown",
   "id": "c4e22c43-6a2d-4daf-9af6-e1f90e55e3c5",
   "metadata": {},
   "source": [
    "### Fitting the Logistic Curve\n",
    "##### Example 6-3. Using a plain logistic regression SciPy"
   ]
  },
  {
   "cell_type": "code",
   "execution_count": 5,
   "id": "62141254-d0e4-4578-961b-9eb1f3662c7d",
   "metadata": {},
   "outputs": [
    {
     "name": "stdout",
     "output_type": "stream",
     "text": [
      "[0.69267212]\n",
      "[-3.17576395]\n"
     ]
    }
   ],
   "source": [
    "import pandas as pd\n",
    "from sklearn.linear_model import LogisticRegression\n",
    "\n",
    "# Load the data\n",
    "df = pd.read_csv('https://bit.ly/33ebs2R', delimiter=',')\n",
    "\n",
    "# Extract input variables\n",
    "X = df.values[:, :-1]\n",
    "Y = df.values[:, -1]\n",
    "\n",
    "# Perform logistic regression\n",
    "model = LogisticRegression(penalty='none')\n",
    "model.fit(X, Y)\n",
    "\n",
    "print(model.coef_.flatten())\n",
    "print(model.intercept_.flatten())"
   ]
  },
  {
   "cell_type": "markdown",
   "id": "bb5239fe-c1f4-4638-9796-1a1873b034db",
   "metadata": {},
   "source": [
    "##### Example 6-4. Calculating the joint likelihood of observing all points for a given logistic regression"
   ]
  },
  {
   "cell_type": "code",
   "execution_count": 6,
   "id": "d9285fb1-3572-45ae-b196-466641474ea7",
   "metadata": {},
   "outputs": [
    {
     "name": "stdout",
     "output_type": "stream",
     "text": [
      "4.7911180221699105e-05\n"
     ]
    }
   ],
   "source": [
    "patient_data = pd.read_csv('https://bit.ly/33ebs2R', delimiter=',').itertuples()\n",
    "\n",
    "b0 = -3.17576395\n",
    "b1 = 0.69267212\n",
    "\n",
    "def logistic_function(x):\n",
    "    p = 1.0 / (1.0 + math.exp(-(b0 + b1 * x)))\n",
    "    return p\n",
    "\n",
    "# Calculate the joint likelihood\n",
    "joint_likelihood = 1.0\n",
    "\n",
    "for p in patient_data:\n",
    "    if p.y == 1.0:\n",
    "        joint_likelihood *= logistic_function(p.x)\n",
    "    elif p.y == 0.0:\n",
    "        joint_likelihood *= (1 -logistic_function(p.x))\n",
    "\n",
    "print(joint_likelihood)"
   ]
  },
  {
   "cell_type": "markdown",
   "id": "7d8b60c6-343f-43ff-a387-206b133f1e57",
   "metadata": {},
   "source": [
    "##### Example 6-5. Compressing the joint likelihood calculation without an if expression "
   ]
  },
  {
   "cell_type": "code",
   "execution_count": 7,
   "id": "04e3f01e-f1ad-4ae3-974d-f51f7ee890a6",
   "metadata": {},
   "outputs": [],
   "source": [
    "for p in patient_data:\n",
    "    joint_likelihood *= logistic_function(p.x) ** p.y * (1.0 - logistic_function(p.x)) ** (1.0 - p.y)"
   ]
  },
  {
   "cell_type": "markdown",
   "id": "20d99871-baeb-44c1-9328-9bf917ea7d8c",
   "metadata": {},
   "source": [
    "##### Example 6-7. Expressing a joint likelihood for logistic regression in SymPy"
   ]
  },
  {
   "cell_type": "code",
   "execution_count": null,
   "id": "26e8c8dc-6a5d-4169-99d3-4327a53e1094",
   "metadata": {},
   "outputs": [],
   "source": [
    "joint_likelihood = Sum(log((1.0 / (1.0 + exp(-(b + m * x(i)))))**y(i) * (1.0 -(1.0 / (1.0 + exp(-(b + m * x(i))))))**(1-y(i))), (i, 0, n))"
   ]
  },
  {
   "cell_type": "markdown",
   "id": "291d91aa-5a08-4381-b103-d390166caf3d",
   "metadata": {},
   "source": [
    "##### Example 6-8. Using gradient descent on logistic regression"
   ]
  },
  {
   "cell_type": "code",
   "execution_count": 11,
   "id": "b5988397-7235-4313-b7d8-acd437c7a776",
   "metadata": {},
   "outputs": [
    {
     "name": "stdout",
     "output_type": "stream",
     "text": [
      "0.6926693075370819 -3.1757515504098244\n"
     ]
    }
   ],
   "source": [
    "points = list(pd.read_csv('https://tinyurl.com/y2cocoo7', delimiter=',').itertuples())\n",
    "\n",
    "b0, b1, i, n = symbols('b0 b1 i n')\n",
    "x, y = symbols('x y', cls=Function)\n",
    "\n",
    "joint_likelihood = Sum(log((1.0 / (1.0 + exp(-(b0 + b1 * x(i)))))**y(i) * (1.0 -(1.0 / (1.0 + exp(-(b0 + b1 * x(i)))))) \\\n",
    "                           **(1-y(i))), (i, 0, n))\n",
    "\n",
    "# Partial derivative for m\n",
    "d_b1 = diff(joint_likelihood, b1).subs(n, len(points)-1).doit().replace(x, lambda i: points[i].x).replace(y, lambda i: points[i].y)\n",
    "\n",
    "# Partial derivative for b\n",
    "d_b0 = diff(joint_likelihood, b0).subs(n, len(points)-1).doit().replace(x, lambda i: points[i].x).replace(y, lambda i: points[i].y)\n",
    "\n",
    "# Compile using lambdify for faster computation\n",
    "d_b1 = lambdify([b1, b0], d_b1)\n",
    "d_b0 = lambdify([b1, b0], d_b0)\n",
    "\n",
    "# Perform Gradient Descent\n",
    "b1 = 0.01\n",
    "b0 = 0.01\n",
    "L = 0.01\n",
    "\n",
    "for j in range(10_000):\n",
    "    b1 += d_b1(b1, b0) * L\n",
    "    b0 += d_b0(b1, b0) * L\n",
    "\n",
    "print(b1, b0)"
   ]
  }
 ],
 "metadata": {
  "kernelspec": {
   "display_name": "Python 3 (ipykernel)",
   "language": "python",
   "name": "python3"
  },
  "language_info": {
   "codemirror_mode": {
    "name": "ipython",
    "version": 3
   },
   "file_extension": ".py",
   "mimetype": "text/x-python",
   "name": "python",
   "nbconvert_exporter": "python",
   "pygments_lexer": "ipython3",
   "version": "3.10.8"
  }
 },
 "nbformat": 4,
 "nbformat_minor": 5
}
